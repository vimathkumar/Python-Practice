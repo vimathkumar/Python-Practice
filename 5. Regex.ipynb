{
 "cells": [
  {
   "cell_type": "markdown",
   "id": "c475afa4",
   "metadata": {},
   "source": [
    "### Regex - \n",
    "The Regex or Regular Expression is a way to define a pattern for searching or manipulating strings. We can use a regular expression to match, search, replace, and manipulate inside textual data.\n"
   ]
  },
  {
   "cell_type": "markdown",
   "id": "ad7524b3",
   "metadata": {},
   "source": [
    "<img src='https://i1.wp.com/onecore.net/wp-content/uploads/2012/01/python_regex.png'>"
   ]
  },
  {
   "cell_type": "markdown",
   "id": "05ae2b14",
   "metadata": {},
   "source": [
    "<!-- \n",
    "            \\w – matches a word character\n",
    "            \\d – matches digit character\n",
    "            \\s – matches whitespace character (space, tab, newline, etc.)\n",
    "            \\b – matches a zero-length character -->\n",
    "                                                                    "
   ]
  },
  {
   "cell_type": "markdown",
   "id": "c8406d7a",
   "metadata": {},
   "source": [
    "<h1>  Regex Metacharacters and Operators </h1>"
   ]
  },
  {
   "cell_type": "markdown",
   "id": "7ff775f5",
   "metadata": {},
   "source": [
    "### Find all\n",
    "re.findall() method scans the regex pattern through the entire target string and returns all the matches that were found in the form of a list."
   ]
  },
  {
   "cell_type": "markdown",
   "id": "1524db7c",
   "metadata": {},
   "source": [
    "<img src='https://blog.finxter.com/wp-content/uploads/2020/11/refindall-scaled.jpg'>"
   ]
  },
  {
   "cell_type": "code",
   "execution_count": 1,
   "id": "e10c89b9",
   "metadata": {},
   "outputs": [],
   "source": [
    "import re"
   ]
  },
  {
   "cell_type": "markdown",
   "id": "bda4700d",
   "metadata": {},
   "source": [
    "##  Extract the numbers"
   ]
  },
  {
   "cell_type": "code",
   "execution_count": 3,
   "id": "a1c64a76",
   "metadata": {},
   "outputs": [],
   "source": [
    "address = \"78 Hi 11    89 Main, 4th Cross, 123, Road, Marathalli, 5678 Bangalore, 560023 67893\""
   ]
  },
  {
   "cell_type": "code",
   "execution_count": 5,
   "id": "22bbe96a",
   "metadata": {},
   "outputs": [
    {
     "name": "stdout",
     "output_type": "stream",
     "text": [
      "sorting the only nums from address ['78', '11', '89', '4', '123', '5678', '560023', '67893']\n"
     ]
    }
   ],
   "source": [
    "add_nos = re.findall(R'\\d+', address)\n",
    "\n",
    "print(f'sorting the only nums from address {add_nos}')"
   ]
  },
  {
   "cell_type": "code",
   "execution_count": 7,
   "id": "0367792e",
   "metadata": {},
   "outputs": [
    {
     "name": "stdout",
     "output_type": "stream",
     "text": [
      "sorting the only nums from address ['78', '11', '89', '12', '56', '78', '56', '00', '23', '67', '89']\n"
     ]
    }
   ],
   "source": [
    "## now i want nos with 6 digit only\n",
    "# REAL LIFE APPLICATION - EXTRACTING THE PIN CODES\n",
    "\n",
    "add_dig = re.findall(r'\\d{2}', address)\n",
    "\n",
    "print(f'sorting the only nums from address {add_dig}')"
   ]
  },
  {
   "cell_type": "code",
   "execution_count": 9,
   "id": "d4843581",
   "metadata": {},
   "outputs": [
    {
     "name": "stdout",
     "output_type": "stream",
     "text": [
      "sorting the only nums from address ['78', '11', '89', '4', '123', '5678', '560023', '67893']\n"
     ]
    }
   ],
   "source": [
    "## now i want nos with 1-3 digit only\n",
    "\n",
    "add_digs = re.findall(r'\\d{1,6}', address)\n",
    "\n",
    "print(f'sorting the only nums from address {add_digs}')"
   ]
  },
  {
   "cell_type": "code",
   "execution_count": 10,
   "id": "2290a0f3",
   "metadata": {},
   "outputs": [],
   "source": [
    "\n",
    "s = '''\n",
    "<html>\n",
    "<head>\n",
    "<title>Current IP Address Allocations\n",
    "</title>\n",
    "</head>\n",
    "<body>\n",
    "IP Address are 172.45.78.109\n",
    "LoopBack Address: 127.0.0.1\n",
    "Computer 1: 10.67.89.101\n",
    "Computer 2: 11.67.98.102\n",
    "Computer 3: 12.68.98.102\n",
    "</body>\n",
    "</html>\n",
    "'''"
   ]
  },
  {
   "cell_type": "code",
   "execution_count": 11,
   "id": "f19ea6c6",
   "metadata": {},
   "outputs": [
    {
     "name": "stdout",
     "output_type": "stream",
     "text": [
      "ip address are -: ['172.45.78.109', '127.0.0.1', '10.67.89.101', '11.67.98.102', '12.68.98.102']\n"
     ]
    }
   ],
   "source": [
    "ip_s=re.findall(r'\\d{1,3}.\\d{1,3}.\\d{1,3}.\\d{1,3}',s)\n",
    "\n",
    "print(f'ip address are -: {ip_s}')"
   ]
  },
  {
   "cell_type": "code",
   "execution_count": 12,
   "id": "84e8a770",
   "metadata": {},
   "outputs": [
    {
     "name": "stdout",
     "output_type": "stream",
     "text": [
      "ip address are -: ['10.67.89.101', '11.67.98.102']\n"
     ]
    }
   ],
   "source": [
    "### 10  0r 11\n",
    "ip_s1=re.findall(r\"1[0-1]\\.\\d{1,3}\\.\\d{1,3}\\.\\d{1,3}\", s)\n",
    "print(f'ip address are -: {ip_s1}')"
   ]
  },
  {
   "cell_type": "code",
   "execution_count": 14,
   "id": "5ba5d60e",
   "metadata": {},
   "outputs": [
    {
     "name": "stdout",
     "output_type": "stream",
     "text": [
      "ip address are -: ['10.67.89.101', '11.67.98.102']\n"
     ]
    }
   ],
   "source": [
    "### 10  0r 11\n",
    "ip_s1=re.findall(r\"1[0|1]\\.\\d{1,3}\\.\\d{1,3}\\.\\d{1,3}\", s)\n",
    "print(f'ip address are -: {ip_s1}')"
   ]
  },
  {
   "cell_type": "code",
   "execution_count": 15,
   "id": "94aeb9d1",
   "metadata": {},
   "outputs": [
    {
     "name": "stdout",
     "output_type": "stream",
     "text": [
      "ip address are -: ['10.67.89.101', '11.67.98.102']\n"
     ]
    }
   ],
   "source": [
    "### 10  0r 11\n",
    "ip_s1=re.findall(r\"1[01]\\.\\d{1,3}\\.\\d{1,3}\\.\\d{1,3}\", s)\n",
    "print(f'ip address are -: {ip_s1}')"
   ]
  },
  {
   "cell_type": "code",
   "execution_count": 16,
   "id": "35d6c9a9",
   "metadata": {},
   "outputs": [
    {
     "name": "stdout",
     "output_type": "stream",
     "text": [
      "ip address are -: ['10.67.89.101']\n"
     ]
    }
   ],
   "source": [
    "### 10  only\n",
    "ip_s0=re.findall(r\"10\\.\\d{1,3}\\.\\d{1,3}\\.\\d{1,3}\", s)\n",
    "print(f'ip address are -: {ip_s0}')"
   ]
  },
  {
   "cell_type": "code",
   "execution_count": 17,
   "id": "7ecbc357",
   "metadata": {},
   "outputs": [
    {
     "name": "stdout",
     "output_type": "stream",
     "text": [
      "Find all matches for format Month day\n",
      "gives Month Date format - ['June 24', 'August 9', 'Dec 12']\n",
      "gives Date format - ['24', '9', '12']\n",
      "gives tuple of Month & Date format - [('June', '24'), ('August', '9'), ('Dec', '12')]\n"
     ]
    }
   ],
   "source": [
    "print(\"Find all matches for format Month day\")\n",
    "\n",
    "matches = re.findall(r\"[A-Z][a-z]+\\s\\d{1,2}\", \"These are the match dates June 24, August 9, Dec 12\")\n",
    "print(f'gives Month Date format - {matches}')\n",
    "\n",
    "matches = re.findall(r\"[A-Z][a-z]+\\s(\\d{1,2})\", \"These are the match dates June 24, August 9, Dec 12\")\n",
    "print(f'gives Date format - {matches}')\n",
    "\n",
    "matches = re.findall(r\"([A-Z][a-z]+)\\s(\\d{1,2})\", \"These are the match dates June 24, August 9, Dec 12\")\n",
    "print(f'gives tuple of Month & Date format - {matches}')"
   ]
  },
  {
   "cell_type": "markdown",
   "id": "bc0a8bf8",
   "metadata": {},
   "source": [
    "\n"
   ]
  },
  {
   "cell_type": "code",
   "execution_count": 18,
   "id": "ba9335aa",
   "metadata": {},
   "outputs": [
    {
     "name": "stdout",
     "output_type": "stream",
     "text": [
      "['alice@google.com', 'helloab@abc.com', '23@gmail.com', 'my23@gmail.com', '_@gmail.com']\n"
     ]
    }
   ],
   "source": [
    "s = \"purple alice@google.com abcde helloab@abc.com ---@gmail.com 23@gmail.com my23@gmail.com _@gmail.com\"\n",
    "\n",
    "emails = re.findall(r\"\\w+@\\w+\\.\\w+\", s)\n",
    "print(emails)"
   ]
  },
  {
   "cell_type": "code",
   "execution_count": 19,
   "id": "56100249",
   "metadata": {},
   "outputs": [
    {
     "name": "stdout",
     "output_type": "stream",
     "text": [
      "starts with alphabets only ['alice@google.com', 'helloab@abc.com']\n"
     ]
    }
   ],
   "source": [
    "s = \"purple alice@google.com abcde helloab@abc.com ---@gmail.com 23@gmail.com my23@gmail.com _@gmail.com\"\n",
    "\n",
    "emails = re.findall(r\"[A-Za-z]+@\\w+\\.\\w+\", s)\n",
    "print(f'starts with alphabets only {emails}')\n",
    "\n",
    "# \\w => A-Za-z0-9_"
   ]
  },
  {
   "cell_type": "code",
   "execution_count": 20,
   "id": "ef5ef695",
   "metadata": {},
   "outputs": [
    {
     "name": "stdout",
     "output_type": "stream",
     "text": [
      "starts with alphabets only ['23@gmail.com', '23@gmail.com']\n"
     ]
    }
   ],
   "source": [
    "s = \"purple alice@google.com abcde helloab@abc.com ---@gmail.com 23@gmail.com my23@gmail.com _@gmail.com\"\n",
    "\n",
    "emails = re.findall(r\"\\d+@\\w+\\.\\w+\", s)\n",
    "print(f'starts with alphabets only {emails}')\n",
    "\n",
    "# \\w => A-Za-z0-9_"
   ]
  },
  {
   "cell_type": "code",
   "execution_count": 21,
   "id": "ecb3289b",
   "metadata": {},
   "outputs": [
    {
     "name": "stdout",
     "output_type": "stream",
     "text": [
      "['23', '453214']\n"
     ]
    }
   ],
   "source": [
    "# findall - digit 0ne or more\n",
    "new_st2 = 'Friend in need is 23 friend in 453214 deed'\n",
    "nr6 = re.findall('\\d+',new_st2)\n",
    "print(nr6)"
   ]
  },
  {
   "cell_type": "code",
   "execution_count": 22,
   "id": "ec099418",
   "metadata": {},
   "outputs": [
    {
     "name": "stdout",
     "output_type": "stream",
     "text": [
      "['F', 'r', 'i', 'e', 'n', 'd', ' ', 'i', 'n', ' ', 'n', 'e', 'e', 'd', ' ', 'i', 's', ' ', ' ', 'f', 'r', 'i', 'e', 'n', 'd', ' ', 'i', 'n', ' ', ' ', 'd', 'e', 'e', 'd']\n"
     ]
    }
   ],
   "source": [
    "# findall - except digit\n",
    "new_st2 = 'Friend in need is 23 friend in 453214 deed'\n",
    "nr6 = re.findall('\\D',new_st2)\n",
    "print(nr6)"
   ]
  },
  {
   "cell_type": "code",
   "execution_count": 23,
   "id": "564aa515",
   "metadata": {},
   "outputs": [
    {
     "name": "stdout",
     "output_type": "stream",
     "text": [
      "['F', 'r', 'i', 'e', 'n', 'd', 'i', 'n', 'n', 'e', 'e', 'd', 'i', 's', '2', '3', 'f', 'r', 'i', 'e', 'n', 'd', 'i', 'n', '4', '5', '3', '2', '1', '4', 'd', 'e', 'e', 'd']\n"
     ]
    }
   ],
   "source": [
    "# findall - words ( removes spaces)\n",
    "new_st2 = 'Friend in need is 23 friend in 453214 deed'\n",
    "nr6 = re.findall('\\w',new_st2)\n",
    "print(nr6)"
   ]
  },
  {
   "cell_type": "code",
   "execution_count": 24,
   "id": "6d5478f0",
   "metadata": {},
   "outputs": [
    {
     "name": "stdout",
     "output_type": "stream",
     "text": [
      "['2', '3', '3', '2']\n"
     ]
    }
   ],
   "source": [
    "# findall - sets - [23] one digit\n",
    "new_st2 = 'Friend in need is 23 friend in 453214 deed'\n",
    "nr6 = re.findall('[23]',new_st2) # 2,3\n",
    "print(nr6)"
   ]
  },
  {
   "cell_type": "markdown",
   "id": "849380e0",
   "metadata": {},
   "source": [
    "### search\n",
    "\n",
    "The re.search() returns only the first match to the pattern from the target string"
   ]
  },
  {
   "cell_type": "markdown",
   "id": "d034f06f",
   "metadata": {},
   "source": [
    "<img src='https://pynative.com/wp-content/uploads/2021/02/python-regex-search.jpg '>"
   ]
  },
  {
   "cell_type": "code",
   "execution_count": 25,
   "id": "d20d2edc",
   "metadata": {},
   "outputs": [
    {
     "name": "stdout",
     "output_type": "stream",
     "text": [
      "Emma\n"
     ]
    }
   ],
   "source": [
    "\n",
    "\n",
    "target_string = \"Emma is a Python developer \\n Emma also knows ML and AI\"\n",
    "\n",
    "# caret (^) matches at the beginning of a string\n",
    "result = re.search(r\"^\\w{4}\", target_string)\n",
    "print(result.group())\n",
    "\n"
   ]
  },
  {
   "cell_type": "code",
   "execution_count": 26,
   "id": "c1a21ffd",
   "metadata": {},
   "outputs": [
    {
     "name": "stdout",
     "output_type": "stream",
     "text": [
      "AI\n"
     ]
    }
   ],
   "source": [
    "\n",
    "\n",
    "str1 = \"Emma is a Python developer \\nEmma also knows ML and AI\"\n",
    "# dollar sign($) to match at the end of the string\n",
    "result = re.search(r\"\\w{2}$\", str1)\n",
    "print(result.group())\n",
    "\n"
   ]
  },
  {
   "cell_type": "code",
   "execution_count": 27,
   "id": "7efc4a09",
   "metadata": {},
   "outputs": [
    {
     "name": "stdout",
     "output_type": "stream",
     "text": [
      "type is object <re.Match object; span=(0, 2), match='In'>\n"
     ]
    }
   ],
   "source": [
    "st = 'In a world where you can be anything, be kind'\n",
    "\n",
    "match_object = re.search('In',st)\n",
    "print(f'type is object {match_object}')"
   ]
  },
  {
   "cell_type": "code",
   "execution_count": 30,
   "id": "1d8dc84c",
   "metadata": {},
   "outputs": [
    {
     "name": "stdout",
     "output_type": "stream",
     "text": [
      "type is object <re.Match object; span=(25, 27), match='be'>\n"
     ]
    }
   ],
   "source": [
    "match_object1 = re.search('be',st)\n",
    "print(f'type is object {match_object1}')"
   ]
  },
  {
   "cell_type": "code",
   "execution_count": 31,
   "id": "3188e0b5",
   "metadata": {},
   "outputs": [
    {
     "data": {
      "text/plain": [
       "0"
      ]
     },
     "execution_count": 31,
     "metadata": {},
     "output_type": "execute_result"
    }
   ],
   "source": [
    "match_object.start()"
   ]
  },
  {
   "cell_type": "code",
   "execution_count": 32,
   "id": "e6dc2a0a",
   "metadata": {},
   "outputs": [
    {
     "data": {
      "text/plain": [
       "25"
      ]
     },
     "execution_count": 32,
     "metadata": {},
     "output_type": "execute_result"
    }
   ],
   "source": [
    "match_object1.start()"
   ]
  },
  {
   "cell_type": "code",
   "execution_count": 33,
   "id": "c729a6c3",
   "metadata": {},
   "outputs": [
    {
     "data": {
      "text/plain": [
       "(0, 2)"
      ]
     },
     "execution_count": 33,
     "metadata": {},
     "output_type": "execute_result"
    }
   ],
   "source": [
    "match_object.span()"
   ]
  },
  {
   "cell_type": "code",
   "execution_count": 34,
   "id": "9ec4704d",
   "metadata": {},
   "outputs": [
    {
     "data": {
      "text/plain": [
       "(25, 27)"
      ]
     },
     "execution_count": 34,
     "metadata": {},
     "output_type": "execute_result"
    }
   ],
   "source": [
    "match_object1.span()"
   ]
  },
  {
   "cell_type": "code",
   "execution_count": 35,
   "id": "c5ee9573",
   "metadata": {},
   "outputs": [
    {
     "data": {
      "text/plain": [
       "<re.Match object; span=(11, 17), match='inform'>"
      ]
     },
     "execution_count": 35,
     "metadata": {},
     "output_type": "execute_result"
    }
   ],
   "source": [
    "source_str  = 'we need to inform him with the latest information'\n",
    "\n",
    "info = re.search('inform', source_str)\n",
    "info"
   ]
  },
  {
   "cell_type": "code",
   "execution_count": 36,
   "id": "b3c1d37d",
   "metadata": {},
   "outputs": [
    {
     "name": "stdout",
     "output_type": "stream",
     "text": [
      "inform is there\n"
     ]
    }
   ],
   "source": [
    "if re.search('inform', source_str):\n",
    "    print('inform is there')"
   ]
  },
  {
   "cell_type": "code",
   "execution_count": 37,
   "id": "a641da5f",
   "metadata": {},
   "outputs": [
    {
     "name": "stdout",
     "output_type": "stream",
     "text": [
      "here is \\kane\n"
     ]
    },
    {
     "data": {
      "text/plain": [
       "<re.Match object; span=(8, 13), match='\\\\kane'>"
      ]
     },
     "execution_count": 37,
     "metadata": {},
     "output_type": "execute_result"
    }
   ],
   "source": [
    "randomstr = 'here is \\\\kane'\n",
    "\n",
    "print(randomstr)\n",
    "\n",
    "re.search(r'\\\\kane',randomstr)"
   ]
  },
  {
   "cell_type": "markdown",
   "id": "a675c30e",
   "metadata": {},
   "source": [
    "### split\n",
    "re.split() method split the string by the occurrences of the regex pattern, returning a list containing the resulting substrings."
   ]
  },
  {
   "cell_type": "code",
   "execution_count": 38,
   "id": "83d1265a",
   "metadata": {},
   "outputs": [
    {
     "data": {
      "text/plain": [
       "['In', 'a', 'world', 'where', 'you', 'can', 'be', 'anything,', 'be', 'kind']"
      ]
     },
     "execution_count": 38,
     "metadata": {},
     "output_type": "execute_result"
    }
   ],
   "source": [
    "r = re.split(' ',st)\n",
    "r"
   ]
  },
  {
   "cell_type": "code",
   "execution_count": 39,
   "id": "ec3547ac",
   "metadata": {},
   "outputs": [
    {
     "data": {
      "text/plain": [
       "['In a world wh', 'r', ' you can b', ' anything, b', ' kind']"
      ]
     },
     "execution_count": 39,
     "metadata": {},
     "output_type": "execute_result"
    }
   ],
   "source": [
    "r1 = re.split('e',st)\n",
    "r1"
   ]
  },
  {
   "cell_type": "code",
   "execution_count": 40,
   "id": "d579ccf8",
   "metadata": {},
   "outputs": [
    {
     "data": {
      "text/plain": [
       "['In a world wh', 'r', ' you can be anything, be kind']"
      ]
     },
     "execution_count": 40,
     "metadata": {},
     "output_type": "execute_result"
    }
   ],
   "source": [
    "# max split\n",
    "r12 = re.split('e',st,2)\n",
    "r12 "
   ]
  },
  {
   "cell_type": "code",
   "execution_count": 41,
   "id": "96e6ee12",
   "metadata": {},
   "outputs": [
    {
     "name": "stdout",
     "output_type": "stream",
     "text": [
      "the value of s               : Welcome to   Regex    Programming   using   Python\n",
      "Regex Split value of s        :['Welcome', 'to', '', '', 'Regex', '', '', '', 'Programming', '', '', 'using', '', '', 'Python']\n",
      "Regex Split value of s        :['Welcome', 'to', 'Regex', 'Programming', 'using', 'Python']\n"
     ]
    }
   ],
   "source": [
    "s = \"Welcome to   Regex    Programming   using   Python\"\n",
    "\n",
    "print(f'the value of s               : {s}')\n",
    "\n",
    "lstVal = re.split(r'\\s', s)\n",
    "#\\s only one space\n",
    "print(f'Regex Split value of s        :{lstVal}')\n",
    "\n",
    "lstVal2 = re.split(r'\\s+', s)\n",
    "#\\s+ space one or more\n",
    "print(f'Regex Split value of s        :{lstVal2}')"
   ]
  },
  {
   "cell_type": "markdown",
   "id": "1ecd16b5",
   "metadata": {},
   "source": [
    "### sub - substitute\n",
    "\n",
    "    * sub('old pattern','new pattern',source_str)"
   ]
  },
  {
   "cell_type": "code",
   "execution_count": 42,
   "id": "c4d6b765",
   "metadata": {},
   "outputs": [
    {
     "data": {
      "text/plain": [
       "'In a world whErE you can bE anything, bE kind'"
      ]
     },
     "execution_count": 42,
     "metadata": {},
     "output_type": "execute_result"
    }
   ],
   "source": [
    "sb = re.sub('e','E',st)\n",
    "sb"
   ]
  },
  {
   "cell_type": "code",
   "execution_count": 43,
   "id": "e9832441",
   "metadata": {},
   "outputs": [
    {
     "data": {
      "text/plain": [
       "'In a world whErE you can be anything, be kind'"
      ]
     },
     "execution_count": 43,
     "metadata": {},
     "output_type": "execute_result"
    }
   ],
   "source": [
    "# max no of occurances to be substituted\n",
    "sb1 = re.sub('e','E',st,2)\n",
    "sb1"
   ]
  },
  {
   "cell_type": "markdown",
   "id": "2299ffeb",
   "metadata": {},
   "source": [
    "### Compile\n",
    "The re.compile() method changed the string pattern into a re.Pattern object that we can work upon."
   ]
  },
  {
   "cell_type": "markdown",
   "id": "fd9cde42",
   "metadata": {},
   "source": [
    "<img src='https://pynative.com/wp-content/uploads/2021/02/python-regex-compile.jpg'>"
   ]
  },
  {
   "cell_type": "code",
   "execution_count": 45,
   "id": "9b200b49",
   "metadata": {},
   "outputs": [
    {
     "data": {
      "text/plain": [
       "re.compile(r'[r]at', re.UNICODE)"
      ]
     },
     "execution_count": 45,
     "metadata": {},
     "output_type": "execute_result"
    }
   ],
   "source": [
    "a = 'hat mat rat pat '\n",
    "\n",
    "reg = re.compile('[r]at')\n",
    "reg"
   ]
  },
  {
   "cell_type": "code",
   "execution_count": 46,
   "id": "0169543a",
   "metadata": {},
   "outputs": [
    {
     "data": {
      "text/plain": [
       "'hat mat FOOD pat '"
      ]
     },
     "execution_count": 46,
     "metadata": {},
     "output_type": "execute_result"
    }
   ],
   "source": [
    "rplce = reg.sub('FOOD',a)\n",
    "rplce"
   ]
  },
  {
   "cell_type": "code",
   "execution_count": 47,
   "id": "bdf23052",
   "metadata": {},
   "outputs": [
    {
     "data": {
      "text/plain": [
       "'hat mat FOOD pat '"
      ]
     },
     "execution_count": 47,
     "metadata": {},
     "output_type": "execute_result"
    }
   ],
   "source": [
    "#replacing \n",
    "\n",
    "rplc = re.sub('rat','FOOD',a)\n",
    "rplc"
   ]
  },
  {
   "cell_type": "markdown",
   "id": "099671b1",
   "metadata": {},
   "source": [
    "### working with white spaces"
   ]
  },
  {
   "cell_type": "code",
   "execution_count": 48,
   "id": "f348e481",
   "metadata": {},
   "outputs": [
    {
     "data": {
      "text/plain": [
       "'keep the blue flag\\nflying high\\nchelsa\\n'"
      ]
     },
     "execution_count": 48,
     "metadata": {},
     "output_type": "execute_result"
    }
   ],
   "source": [
    "chelsea = '''keep the blue flag\n",
    "flying high\n",
    "chelsa\n",
    "'''\n",
    "chelsea"
   ]
  },
  {
   "cell_type": "code",
   "execution_count": 49,
   "id": "723ceda1",
   "metadata": {},
   "outputs": [
    {
     "data": {
      "text/plain": [
       "'keep the blue flag flying high chelsa '"
      ]
     },
     "execution_count": 49,
     "metadata": {},
     "output_type": "execute_result"
    }
   ],
   "source": [
    "new_str = re.sub('\\n',' ',chelsea)\n",
    "new_str"
   ]
  },
  {
   "cell_type": "code",
   "execution_count": 50,
   "id": "a2785f55",
   "metadata": {},
   "outputs": [
    {
     "data": {
      "text/plain": [
       "'keep the blue flag flying high chelsa '"
      ]
     },
     "execution_count": 50,
     "metadata": {},
     "output_type": "execute_result"
    }
   ],
   "source": [
    "# other method using compile\n",
    "\n",
    "comp = re.compile('\\n')\n",
    "\n",
    "new =comp.sub(' ',chelsea)\n",
    "new"
   ]
  },
  {
   "cell_type": "markdown",
   "id": "5efa75c8",
   "metadata": {},
   "source": [
    "* \\b : backspace\n",
    "* \\f : formfeed\n",
    "* \\r: carriage return\n",
    "* \\t: tab\n",
    "* \\v:vertical\n"
   ]
  },
  {
   "cell_type": "code",
   "execution_count": 51,
   "id": "652af966",
   "metadata": {},
   "outputs": [
    {
     "data": {
      "text/plain": [
       "['444-122-1234', '123-122-7899']"
      ]
     },
     "execution_count": 51,
     "metadata": {},
     "output_type": "execute_result"
    }
   ],
   "source": [
    "phone_no = ''' \n",
    "444-122-1234\n",
    "123-122-78999\n",
    "111-123-23\n",
    "67-7890-2019\n",
    "'''\n",
    "# 3 digit @ start & middle, end -4 digit\n",
    "\n",
    "reg = re.findall(r'\\d{3}\\-\\d{3}\\-\\d{4}',phone_no)\n",
    "reg"
   ]
  },
  {
   "cell_type": "markdown",
   "id": "2c6dcb75",
   "metadata": {},
   "source": [
    "### Match\n",
    "re.match() method looks for the regex pattern only at the beginning of the target string and returns match object if match found; otherwise, it will return None.\n",
    "\n"
   ]
  },
  {
   "cell_type": "markdown",
   "id": "13f80ad4",
   "metadata": {},
   "source": [
    "<img src='https://pynative.com/wp-content/uploads/2021/02/python-regex-match.jpg'>"
   ]
  },
  {
   "cell_type": "code",
   "execution_count": 52,
   "id": "1d1766a3",
   "metadata": {},
   "outputs": [
    {
     "name": "stdout",
     "output_type": "stream",
     "text": [
      "None\n",
      "Python\n",
      "['Python', 'pandas']\n"
     ]
    }
   ],
   "source": [
    "import re\n",
    "\n",
    "target_string = \"Jessy loves Python and pandas\"\n",
    "# Match six-letter word\n",
    "pattern = r\"\\w{6}\"\n",
    "\n",
    "# match() method\n",
    "result = re.match(pattern, target_string)\n",
    "print(result)\n",
    "\n",
    "\n",
    "# search() method\n",
    "result = re.search(pattern, target_string)\n",
    "print(result.group()) \n",
    "\n",
    "\n",
    "# findall() method\n",
    "result = re.findall(pattern, target_string)\n",
    "print(result) \n"
   ]
  },
  {
   "cell_type": "code",
   "execution_count": null,
   "id": "e509d6f5",
   "metadata": {},
   "outputs": [],
   "source": []
  },
  {
   "cell_type": "code",
   "execution_count": null,
   "id": "8818c036",
   "metadata": {},
   "outputs": [],
   "source": []
  },
  {
   "cell_type": "code",
   "execution_count": null,
   "id": "8344926d",
   "metadata": {},
   "outputs": [],
   "source": []
  },
  {
   "cell_type": "code",
   "execution_count": null,
   "id": "eb76c6ee",
   "metadata": {},
   "outputs": [],
   "source": []
  },
  {
   "cell_type": "code",
   "execution_count": null,
   "id": "bbb46c87",
   "metadata": {},
   "outputs": [],
   "source": []
  }
 ],
 "metadata": {
  "kernelspec": {
   "display_name": "Python 3 (ipykernel)",
   "language": "python",
   "name": "python3"
  },
  "language_info": {
   "codemirror_mode": {
    "name": "ipython",
    "version": 3
   },
   "file_extension": ".py",
   "mimetype": "text/x-python",
   "name": "python",
   "nbconvert_exporter": "python",
   "pygments_lexer": "ipython3",
   "version": "3.9.7"
  },
  "varInspector": {
   "cols": {
    "lenName": 16,
    "lenType": 16,
    "lenVar": 40
   },
   "kernels_config": {
    "python": {
     "delete_cmd_postfix": "",
     "delete_cmd_prefix": "del ",
     "library": "var_list.py",
     "varRefreshCmd": "print(var_dic_list())"
    },
    "r": {
     "delete_cmd_postfix": ") ",
     "delete_cmd_prefix": "rm(",
     "library": "var_list.r",
     "varRefreshCmd": "cat(var_dic_list()) "
    }
   },
   "types_to_exclude": [
    "module",
    "function",
    "builtin_function_or_method",
    "instance",
    "_Feature"
   ],
   "window_display": false
  }
 },
 "nbformat": 4,
 "nbformat_minor": 5
}
